{
 "cells": [
  {
   "cell_type": "code",
   "execution_count": 1,
   "metadata": {},
   "outputs": [],
   "source": [
    "# if <condation>:\n",
    "#     <operations>\n",
    "    \n",
    "# elif <condition>:\n",
    "#     <oparations>\n",
    "    \n",
    "# elif <condition>:\n",
    "#     <operations>\n",
    "    \n",
    "# else:\n",
    "#     <operations>"
   ]
  },
  {
   "cell_type": "code",
   "execution_count": 10,
   "metadata": {},
   "outputs": [
    {
     "name": "stdout",
     "output_type": "stream",
     "text": [
      "Hello World\n"
     ]
    }
   ],
   "source": [
    "if True:\n",
    "    print(\"Hello World\")"
   ]
  },
  {
   "cell_type": "code",
   "execution_count": 11,
   "metadata": {},
   "outputs": [],
   "source": [
    "# > < <= >= == !="
   ]
  },
  {
   "cell_type": "code",
   "execution_count": 12,
   "metadata": {},
   "outputs": [
    {
     "name": "stdout",
     "output_type": "stream",
     "text": [
      "True\n"
     ]
    }
   ],
   "source": [
    "print(10<11)"
   ]
  },
  {
   "cell_type": "code",
   "execution_count": 13,
   "metadata": {},
   "outputs": [
    {
     "data": {
      "text/plain": [
       "False"
      ]
     },
     "execution_count": 13,
     "metadata": {},
     "output_type": "execute_result"
    }
   ],
   "source": [
    "11%2 == 0"
   ]
  },
  {
   "cell_type": "code",
   "execution_count": 14,
   "metadata": {},
   "outputs": [
    {
     "name": "stdout",
     "output_type": "stream",
     "text": [
      "Enter x = 11\n",
      "The no is odd no\n"
     ]
    }
   ],
   "source": [
    "x = int(input(\"Enter x = \"))\n",
    "if x%2 == 0:\n",
    "    print(\"The no is even no\")\n",
    "else:\n",
    "    print(\"The no is odd no\")"
   ]
  },
  {
   "cell_type": "code",
   "execution_count": 17,
   "metadata": {},
   "outputs": [
    {
     "name": "stdout",
     "output_type": "stream",
     "text": [
      "Enter x = 10\n",
      "Enter y = 10\n",
      "Both are equal.\n"
     ]
    }
   ],
   "source": [
    "x = int(input(\"Enter x = \"))\n",
    "y = int(input(\"Enter y = \"))\n",
    "if x>y:\n",
    "    print(x,\"is greater.\")\n",
    "elif y>x:\n",
    "    print(y,'is greater.')\n",
    "else:\n",
    "    print(\"Both are equal.\")"
   ]
  },
  {
   "cell_type": "code",
   "execution_count": 20,
   "metadata": {},
   "outputs": [
    {
     "name": "stdout",
     "output_type": "stream",
     "text": [
      "Enter x = 10\n",
      "Enter y = 0\n",
      "Enter + - * /  /\n"
     ]
    },
    {
     "ename": "ZeroDivisionError",
     "evalue": "division by zero",
     "output_type": "error",
     "traceback": [
      "\u001b[1;31m---------------------------------------------------------------------------\u001b[0m",
      "\u001b[1;31mZeroDivisionError\u001b[0m                         Traceback (most recent call last)",
      "\u001b[1;32m~\\AppData\\Local\\Temp/ipykernel_8320/4163378529.py\u001b[0m in \u001b[0;36m<module>\u001b[1;34m\u001b[0m\n\u001b[0;32m     10\u001b[0m     \u001b[0mprint\u001b[0m\u001b[1;33m(\u001b[0m\u001b[0ma\u001b[0m\u001b[1;33m*\u001b[0m\u001b[0mb\u001b[0m\u001b[1;33m)\u001b[0m\u001b[1;33m\u001b[0m\u001b[1;33m\u001b[0m\u001b[0m\n\u001b[0;32m     11\u001b[0m \u001b[1;32melif\u001b[0m \u001b[0mo\u001b[0m \u001b[1;33m==\u001b[0m \u001b[1;34m\"/\"\u001b[0m\u001b[1;33m:\u001b[0m\u001b[1;33m\u001b[0m\u001b[1;33m\u001b[0m\u001b[0m\n\u001b[1;32m---> 12\u001b[1;33m     \u001b[0mprint\u001b[0m\u001b[1;33m(\u001b[0m\u001b[0ma\u001b[0m\u001b[1;33m/\u001b[0m\u001b[0mb\u001b[0m\u001b[1;33m)\u001b[0m\u001b[1;33m\u001b[0m\u001b[1;33m\u001b[0m\u001b[0m\n\u001b[0m\u001b[0;32m     13\u001b[0m \u001b[1;32melse\u001b[0m\u001b[1;33m:\u001b[0m\u001b[1;33m\u001b[0m\u001b[1;33m\u001b[0m\u001b[0m\n\u001b[0;32m     14\u001b[0m     \u001b[0mprint\u001b[0m\u001b[1;33m(\u001b[0m\u001b[1;34m\"Invalid Operator\"\u001b[0m\u001b[1;33m)\u001b[0m\u001b[1;33m\u001b[0m\u001b[1;33m\u001b[0m\u001b[0m\n",
      "\u001b[1;31mZeroDivisionError\u001b[0m: division by zero"
     ]
    }
   ],
   "source": [
    "a = int(input(\"Enter x = \"))\n",
    "b = int(input(\"Enter y = \"))\n",
    "o = input(\"Enter + - * /  \")\n",
    "\n",
    "if o == \"+\":\n",
    "    print(a+b)\n",
    "elif o == \"-\":\n",
    "    print(a-b)\n",
    "elif o == \"*\":\n",
    "    print(a*b)\n",
    "elif o == \"/\":\n",
    "    print(a/b)\n",
    "else:\n",
    "    print(\"Invalid Operator\")"
   ]
  },
  {
   "cell_type": "code",
   "execution_count": 23,
   "metadata": {},
   "outputs": [
    {
     "name": "stdout",
     "output_type": "stream",
     "text": [
      "False\n",
      "True\n"
     ]
    }
   ],
   "source": [
    "# and &\n",
    "print(True and False)\n",
    "\n",
    "# or |\n",
    "print(True or False)"
   ]
  },
  {
   "cell_type": "code",
   "execution_count": 26,
   "metadata": {},
   "outputs": [
    {
     "name": "stdout",
     "output_type": "stream",
     "text": [
      "Enter x = 10\n",
      "Enter y = 3\n",
      "Enter + - * /  /\n",
      "3.3333333333333335\n"
     ]
    }
   ],
   "source": [
    "a = int(input(\"Enter x = \"))\n",
    "b = int(input(\"Enter y = \"))\n",
    "o = input(\"Enter + - * /  \")\n",
    "\n",
    "if o == \"+\":\n",
    "    print(a+b)\n",
    "elif o == \"-\":\n",
    "    print(a-b)\n",
    "elif o == \"*\":\n",
    "    print(a*b)\n",
    "elif (o == \"/\") & (b!= 0):\n",
    "    print(a/b)\n",
    "elif (o == \"/\") & (b == 0):\n",
    "    print(\"The value of b can not be zero.\")\n",
    "else:\n",
    "    print(\"Invalid Operator\")"
   ]
  },
  {
   "cell_type": "code",
   "execution_count": 28,
   "metadata": {},
   "outputs": [
    {
     "name": "stdout",
     "output_type": "stream",
     "text": [
      "Enter per = 61\n",
      "The grade is B\n"
     ]
    }
   ],
   "source": [
    "per = float(input(\"Enter per = \"))\n",
    "if (per > 60) or (per == 60):\n",
    "    print(\"The grade is B\")"
   ]
  },
  {
   "cell_type": "code",
   "execution_count": 29,
   "metadata": {},
   "outputs": [],
   "source": [
    "# # nested if\n",
    "# if <condition>:\n",
    "#     if <condation>:\n",
    "#         <operations>\n",
    "#     elif <condition>:\n",
    "#         <operations>\n",
    "#     else:\n",
    "#         <operations>\n",
    "        \n",
    "\n",
    "# else:\n",
    "#     <operations>"
   ]
  },
  {
   "cell_type": "code",
   "execution_count": 34,
   "metadata": {},
   "outputs": [
    {
     "name": "stdout",
     "output_type": "stream",
     "text": [
      "Enter x = 11\n",
      "The no is +ve and odd.\n"
     ]
    }
   ],
   "source": [
    "x = int(input(\"Enter x = \"))\n",
    "if x>0:\n",
    "    if x %2 == 0:\n",
    "        print(\"The no is +ve and even.\")\n",
    "    else:\n",
    "        print(\"The no is +ve and odd.\")\n",
    "        \n",
    "else:\n",
    "    print(\"The no is -ve\")"
   ]
  },
  {
   "cell_type": "code",
   "execution_count": null,
   "metadata": {},
   "outputs": [],
   "source": [
    "a = int(input(\"Enter x = \"))\n",
    "b = int(input(\"Enter y = \"))\n",
    "o = input(\"Enter + - * /  \")\n",
    "\n",
    "if o == \"+\":\n",
    "    print(a+b)\n",
    "elif o == \"-\":\n",
    "    print(a-b)\n",
    "elif o == \"*\":\n",
    "    print(a*b)\n",
    "elif o == \"/\":\n",
    "    if b != 0:\n",
    "        print(a/b)\n",
    "    else:\n",
    "        print(\"The value of b can not be zero.\")\n",
    "        \n",
    "else:\n",
    "    print(\"Invalid Operator\")"
   ]
  }
 ],
 "metadata": {
  "kernelspec": {
   "display_name": "Python 3 (ipykernel)",
   "language": "python",
   "name": "python3"
  },
  "language_info": {
   "codemirror_mode": {
    "name": "ipython",
    "version": 3
   },
   "file_extension": ".py",
   "mimetype": "text/x-python",
   "name": "python",
   "nbconvert_exporter": "python",
   "pygments_lexer": "ipython3",
   "version": "3.7.1"
  }
 },
 "nbformat": 4,
 "nbformat_minor": 2
}
