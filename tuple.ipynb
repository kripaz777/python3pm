{
 "cells": [
  {
   "cell_type": "code",
   "execution_count": 1,
   "metadata": {},
   "outputs": [],
   "source": [
    "# # tuple\n",
    "# -Indexed\n",
    "# -Ordered\n",
    "# -Multiple and duplicate data\n",
    "# -IMutable"
   ]
  },
  {
   "cell_type": "code",
   "execution_count": 2,
   "metadata": {},
   "outputs": [
    {
     "name": "stdout",
     "output_type": "stream",
     "text": [
      "(1, 2, 3, 4, 5, 6)\n",
      "<class 'tuple'>\n"
     ]
    }
   ],
   "source": [
    "a = tuple()\n",
    "a = (1,2,3,4,5,6,)\n",
    "print(a)\n",
    "print(type(a))"
   ]
  },
  {
   "cell_type": "code",
   "execution_count": 4,
   "metadata": {},
   "outputs": [
    {
     "name": "stdout",
     "output_type": "stream",
     "text": [
      "<class 'tuple'>\n",
      "<class 'tuple'>\n"
     ]
    }
   ],
   "source": [
    "a = (1,)\n",
    "b = (\"Apple\",)\n",
    "print(type(a))\n",
    "print(type(b))"
   ]
  },
  {
   "cell_type": "code",
   "execution_count": 6,
   "metadata": {},
   "outputs": [
    {
     "name": "stdout",
     "output_type": "stream",
     "text": [
      "Apple\n",
      "('Apple', 'Ball', 'Cat', 'Dog')\n",
      "('Apple', 'Cat')\n"
     ]
    }
   ],
   "source": [
    "a = (\"Apple\",\"Ball\",\"Cat\",\"Dog\")\n",
    "print(a[0])\n",
    "print(a[0:4])\n",
    "print(a[0:4:2])"
   ]
  },
  {
   "cell_type": "code",
   "execution_count": 9,
   "metadata": {},
   "outputs": [
    {
     "name": "stdout",
     "output_type": "stream",
     "text": [
      "('Apple', 'Ball', 'Cat', 'Dog', 'Fish')\n"
     ]
    }
   ],
   "source": [
    "a = (\"Apple\",\"Ball\",\"Cat\",\"Dog\")\n",
    "b = (\"Fish\",)\n",
    "c = a+b\n",
    "print(c)"
   ]
  },
  {
   "cell_type": "code",
   "execution_count": 10,
   "metadata": {},
   "outputs": [
    {
     "data": {
      "text/plain": [
       "('Apple', 'Ball', 'Cat', 'Dog', 'Apple', 'Ball', 'Cat', 'Dog')"
      ]
     },
     "execution_count": 10,
     "metadata": {},
     "output_type": "execute_result"
    }
   ],
   "source": [
    "a = (\"Apple\",\"Ball\",\"Cat\",\"Dog\")\n",
    "a*2"
   ]
  },
  {
   "cell_type": "code",
   "execution_count": 11,
   "metadata": {},
   "outputs": [],
   "source": [
    "# no append() insert() extend()\n",
    "# no update\n",
    "# no del remove() pop()"
   ]
  },
  {
   "cell_type": "code",
   "execution_count": 12,
   "metadata": {},
   "outputs": [
    {
     "name": "stdout",
     "output_type": "stream",
     "text": [
      "Enter n = 2\n",
      "Enter x = Apple\n",
      "Enter x = Ball\n",
      "('Apple', 'Ball')\n"
     ]
    }
   ],
   "source": [
    "t = tuple()\n",
    "n = int(input(\"Enter n = \"))\n",
    "for i in range(n):\n",
    "    x = input(\"Enter x = \")\n",
    "    t = t + (x,)\n",
    "    \n",
    "print(t)"
   ]
  },
  {
   "cell_type": "code",
   "execution_count": 13,
   "metadata": {},
   "outputs": [
    {
     "data": {
      "text/plain": [
       "(10, 12)"
      ]
     },
     "execution_count": 13,
     "metadata": {},
     "output_type": "execute_result"
    }
   ],
   "source": [
    "def cal():\n",
    "    a = 10\n",
    "    v = 12\n",
    "    return a,v\n",
    "\n",
    "cal()"
   ]
  },
  {
   "cell_type": "code",
   "execution_count": 14,
   "metadata": {},
   "outputs": [
    {
     "data": {
      "text/plain": [
       "(10, 11, 12)"
      ]
     },
     "execution_count": 14,
     "metadata": {},
     "output_type": "execute_result"
    }
   ],
   "source": [
    "a = 10,11,12\n",
    "a"
   ]
  },
  {
   "cell_type": "code",
   "execution_count": 17,
   "metadata": {},
   "outputs": [
    {
     "data": {
      "text/plain": [
       "('Ball', 'Cat', 'Dog', 'Apple', 'Ball', 'Cat', 'Dog')"
      ]
     },
     "execution_count": 17,
     "metadata": {},
     "output_type": "execute_result"
    }
   ],
   "source": [
    "a = ('Apple', 'Ball', 'Cat', 'Dog', 'Apple', 'Ball', 'Cat', 'Dog')\n",
    "b = list(a)\n",
    "del b[0]\n",
    "a = tuple(b)\n",
    "a"
   ]
  },
  {
   "cell_type": "code",
   "execution_count": null,
   "metadata": {},
   "outputs": [],
   "source": [
    "# tuple inside tuple\n",
    "a = (('Ram',34,'Kathmandu'),\n",
    "    ('Shyam',23,'Patan'),\n",
    "    ('Hari',54,'Bhaktapur'))\n",
    "a"
   ]
  },
  {
   "cell_type": "code",
   "execution_count": 20,
   "metadata": {},
   "outputs": [
    {
     "name": "stdout",
     "output_type": "stream",
     "text": [
      "(('Ram', 34, 'Kathmandu'), ('Shyam', 23, 'Patan'), ('Hari', 54, 'Bhaktapur'), ('Nabin', 34, 'Chitwan'))\n"
     ]
    }
   ],
   "source": [
    "# tuple inside tuple\n",
    "a = (('Ram',34,'Kathmandu'),\n",
    "    ('Shyam',23,'Patan'),\n",
    "    ('Hari',54,'Bhaktapur'))\n",
    "b = (('Nabin',34,'Chitwan'),)\n",
    "print(a+b)"
   ]
  },
  {
   "cell_type": "code",
   "execution_count": 23,
   "metadata": {},
   "outputs": [
    {
     "data": {
      "text/plain": [
       "[('Ram', 34, 'Kathmandu'), ('Shyam', 23, 'Patan'), ('Hari', 54, 'Bhaktapur')]"
      ]
     },
     "execution_count": 23,
     "metadata": {},
     "output_type": "execute_result"
    }
   ],
   "source": [
    "a = (('Ram',34,'Kathmandu'),\n",
    "    ('Shyam',23,'Patan'),\n",
    "    ('Hari',54,'Bhaktapur'))\n",
    "b = list(a)\n",
    "b"
   ]
  },
  {
   "cell_type": "code",
   "execution_count": 25,
   "metadata": {},
   "outputs": [
    {
     "data": {
      "text/plain": [
       "[('Shyam', 23, 'Patan'), ('Hari', 54, 'Bhaktapur')]"
      ]
     },
     "execution_count": 25,
     "metadata": {},
     "output_type": "execute_result"
    }
   ],
   "source": [
    "del b[0]\n",
    "b"
   ]
  },
  {
   "cell_type": "code",
   "execution_count": 27,
   "metadata": {},
   "outputs": [
    {
     "data": {
      "text/plain": [
       "[('Shyam', 23, 'Patan'), ('Hari', 54, 'Bhaktapur'), ('Nabin', 67, 'Bara')]"
      ]
     },
     "execution_count": 27,
     "metadata": {},
     "output_type": "execute_result"
    }
   ],
   "source": [
    "b.append(('Nabin',67,\"Bara\"))\n",
    "b"
   ]
  },
  {
   "cell_type": "code",
   "execution_count": 28,
   "metadata": {},
   "outputs": [
    {
     "data": {
      "text/plain": [
       "('Shyam', 23, 'Patan')"
      ]
     },
     "execution_count": 28,
     "metadata": {},
     "output_type": "execute_result"
    }
   ],
   "source": [
    "b[0]"
   ]
  },
  {
   "cell_type": "code",
   "execution_count": null,
   "metadata": {},
   "outputs": [],
   "source": [
    "# WAP to convert tuple inside tuple to list inside list and vice versa\n",
    "# WAP to perform CRUD list inside tuple\n",
    "# (['Shyam', 23, 'Patan'], ['Hari', 54, 'Bhaktapur'], ['Nabin', 67, 'Bara'])\n"
   ]
  }
 ],
 "metadata": {
  "kernelspec": {
   "display_name": "Python 3 (ipykernel)",
   "language": "python",
   "name": "python3"
  },
  "language_info": {
   "codemirror_mode": {
    "name": "ipython",
    "version": 3
   },
   "file_extension": ".py",
   "mimetype": "text/x-python",
   "name": "python",
   "nbconvert_exporter": "python",
   "pygments_lexer": "ipython3",
   "version": "3.7.1"
  }
 },
 "nbformat": 4,
 "nbformat_minor": 2
}
