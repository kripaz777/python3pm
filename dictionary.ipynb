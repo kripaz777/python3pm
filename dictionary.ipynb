{
 "cells": [
  {
   "cell_type": "code",
   "execution_count": 1,
   "metadata": {},
   "outputs": [],
   "source": [
    "# Dictionary\n",
    "# Indexed\n",
    "# Ordered\n",
    "# Multiple data\n",
    "# Mutable"
   ]
  },
  {
   "cell_type": "code",
   "execution_count": 3,
   "metadata": {},
   "outputs": [
    {
     "name": "stdout",
     "output_type": "stream",
     "text": [
      "{'a': 'Apple', 'b': 'Ball', 'c': 'Cat'}\n",
      "<class 'dict'>\n"
     ]
    }
   ],
   "source": [
    "# a = {<Key>:<value>,<key>:<value>}\n",
    "a = {'a':\"Apple\",'b':\"Ball\",'c':'Cat'}\n",
    "print(a)\n",
    "print(type(a))"
   ]
  },
  {
   "cell_type": "code",
   "execution_count": 7,
   "metadata": {},
   "outputs": [
    {
     "name": "stdout",
     "output_type": "stream",
     "text": [
      "Cat\n"
     ]
    }
   ],
   "source": [
    "print(a['c'])"
   ]
  },
  {
   "cell_type": "code",
   "execution_count": 8,
   "metadata": {},
   "outputs": [
    {
     "name": "stdout",
     "output_type": "stream",
     "text": [
      "3\n"
     ]
    }
   ],
   "source": [
    "a = {'a':\"Apple\",'b':\"Ball\",'c':'Cat'}\n",
    "print(len(a))"
   ]
  },
  {
   "cell_type": "code",
   "execution_count": 9,
   "metadata": {},
   "outputs": [
    {
     "name": "stdout",
     "output_type": "stream",
     "text": [
      "{'a': 'Apple', 'b': 'Ball', 'c': 'Cat', 'd': 'Dog'}\n"
     ]
    }
   ],
   "source": [
    "a = {'a':\"Apple\",'b':\"Ball\",'c':'Cat'}\n",
    "a['d'] = \"Dog\"\n",
    "print(a)"
   ]
  },
  {
   "cell_type": "code",
   "execution_count": 11,
   "metadata": {},
   "outputs": [
    {
     "data": {
      "text/plain": [
       "{'a': 'Apple', 'b': 'Ball', 'c': 'Cat'}"
      ]
     },
     "execution_count": 11,
     "metadata": {},
     "output_type": "execute_result"
    }
   ],
   "source": [
    "a = {}\n",
    "a['a'] = \"Apple\"\n",
    "a['b'] = \"Ball\"\n",
    "a['c'] = \"Cat\"\n",
    "a"
   ]
  },
  {
   "cell_type": "code",
   "execution_count": 12,
   "metadata": {},
   "outputs": [
    {
     "name": "stdout",
     "output_type": "stream",
     "text": [
      "Enter n = 2\n",
      "Enter name = Ram\n",
      "Enter phone = 9878778765\n",
      "Enter name = Shyam\n",
      "Enter phone = 9809778765\n",
      "{'Ram': 9878778765, 'Shyam': 9809778765}\n"
     ]
    }
   ],
   "source": [
    "data = {}\n",
    "n = int(input(\"Enter n = \"))\n",
    "for i in range(n):\n",
    "    name = input(\"Enter name = \")\n",
    "    phone = int(input(\"Enter phone = \"))\n",
    "    data[name] = phone\n",
    "    \n",
    "print(data)"
   ]
  },
  {
   "cell_type": "code",
   "execution_count": 13,
   "metadata": {},
   "outputs": [
    {
     "data": {
      "text/plain": [
       "{'Ram': 9809887865, 'Shyam': 9809778765}"
      ]
     },
     "execution_count": 13,
     "metadata": {},
     "output_type": "execute_result"
    }
   ],
   "source": [
    "a = {'Ram': 9878778765, 'Shyam': 9809778765}\n",
    "a['Ram'] = 9809887865\n",
    "a"
   ]
  },
  {
   "cell_type": "code",
   "execution_count": 14,
   "metadata": {},
   "outputs": [
    {
     "name": "stdout",
     "output_type": "stream",
     "text": [
      "Ram\n",
      "Shyam\n"
     ]
    }
   ],
   "source": [
    "a = {'Ram': 9809887865, 'Shyam': 9809778765}\n",
    "for i in a:\n",
    "    print(i)"
   ]
  },
  {
   "cell_type": "code",
   "execution_count": 15,
   "metadata": {},
   "outputs": [
    {
     "name": "stdout",
     "output_type": "stream",
     "text": [
      "9809887865\n",
      "9809778765\n"
     ]
    }
   ],
   "source": [
    "a = {'Ram': 9809887865, 'Shyam': 9809778765}\n",
    "for i in a.values():\n",
    "    print(i)"
   ]
  },
  {
   "cell_type": "code",
   "execution_count": 16,
   "metadata": {},
   "outputs": [
    {
     "name": "stdout",
     "output_type": "stream",
     "text": [
      "('Ram', 9809887865)\n",
      "('Shyam', 9809778765)\n"
     ]
    }
   ],
   "source": [
    "a = {'Ram': 9809887865, 'Shyam': 9809778765}\n",
    "for i in a.items():\n",
    "    print(i)"
   ]
  },
  {
   "cell_type": "code",
   "execution_count": 17,
   "metadata": {},
   "outputs": [
    {
     "name": "stdout",
     "output_type": "stream",
     "text": [
      "{'Shyam': 9809778765}\n"
     ]
    }
   ],
   "source": [
    "a = {'Ram': 9809887865, 'Shyam': 9809778765}\n",
    "del a['Ram']\n",
    "\n",
    "print(a)"
   ]
  },
  {
   "cell_type": "code",
   "execution_count": 19,
   "metadata": {},
   "outputs": [
    {
     "name": "stdout",
     "output_type": "stream",
     "text": [
      "{'Shyam': 9809778765}\n",
      "9809887865\n"
     ]
    }
   ],
   "source": [
    "a = {'Ram': 9809887865, 'Shyam': 9809778765}\n",
    "b = a.pop('Ram')\n",
    "print(a)\n",
    "print(b)"
   ]
  },
  {
   "cell_type": "code",
   "execution_count": 21,
   "metadata": {},
   "outputs": [
    {
     "name": "stdout",
     "output_type": "stream",
     "text": [
      "Enter n = 2\n",
      "Enter name = Ram\n",
      "Enter ntc no = 9867667654\n",
      "Enter ncell_no = 9878979978\n",
      "Enter name = Shyam\n",
      "Enter ntc no = 987656756\n",
      "Enter ncell_no = 9877567878\n",
      "{'Ram': [9867667654, 9878979978], 'Shyam': [987656756, 9877567878]}\n"
     ]
    }
   ],
   "source": [
    "#list inside dictionary\n",
    "# a = {'Ram': [9809887865,9808778765], 'Shyam': [9809778765,9808667654]}\n",
    "info = {}\n",
    "n = int(input(\"Enter n = \"))\n",
    "for i in range(n):\n",
    "    name = input(\"Enter name = \")\n",
    "    ntc_phone = int(input(\"Enter ntc no = \"))\n",
    "    ncell_phone = int(input(\"Enter ncell_no = \"))\n",
    "    info[name] = [ntc_phone,ncell_phone]\n",
    "print(info)"
   ]
  },
  {
   "cell_type": "code",
   "execution_count": 26,
   "metadata": {},
   "outputs": [
    {
     "data": {
      "text/plain": [
       "[987656756, 9877567878]"
      ]
     },
     "execution_count": 26,
     "metadata": {},
     "output_type": "execute_result"
    }
   ],
   "source": [
    "a = {'Ram': [9867667654, 9878979978], 'Shyam': [987656756, 9877567878]}\n",
    "a['Shyam']"
   ]
  },
  {
   "cell_type": "code",
   "execution_count": 28,
   "metadata": {},
   "outputs": [
    {
     "data": {
      "text/plain": [
       "{'Ram': [9867667654, 9878979978, 9808667654], 'Shyam': [987656756, 9877567878]}"
      ]
     },
     "execution_count": 28,
     "metadata": {},
     "output_type": "execute_result"
    }
   ],
   "source": [
    "a = {'Ram': [9867667654, 9878979978], 'Shyam': [987656756, 9877567878]}\n",
    "a['Ram'].append(9808667654)\n",
    "a"
   ]
  },
  {
   "cell_type": "code",
   "execution_count": 30,
   "metadata": {},
   "outputs": [
    {
     "data": {
      "text/plain": [
       "{'Ram': [9867667654, 9878979978, 9808667654],\n",
       " 'Shyam': [987656756, 9877567878],\n",
       " 'Hari': [9856556543, 98787765478]}"
      ]
     },
     "execution_count": 30,
     "metadata": {},
     "output_type": "execute_result"
    }
   ],
   "source": [
    "a['Hari'] = [9856556543,98787765478]\n",
    "a"
   ]
  },
  {
   "cell_type": "code",
   "execution_count": 31,
   "metadata": {},
   "outputs": [],
   "source": [
    "a = {'Name':[\"Ram\",\"Shyam\"],\n",
    "     'NTC':[984778765,9845667654],\n",
    "    'NCELL':[9808667654,9808667654]}"
   ]
  },
  {
   "cell_type": "code",
   "execution_count": 32,
   "metadata": {},
   "outputs": [
    {
     "name": "stdout",
     "output_type": "stream",
     "text": [
      "Enter n = 2\n",
      "Enter name = Ram\n",
      "Enter ntc no = 9845665654\n",
      "Enter ncell_no = 9808667654\n",
      "Enter name = Shyam\n",
      "Enter ntc no = 453534\n",
      "Enter ncell_no = 345345345\n",
      "{'Name': ['Ram', 'Shyam'], 'NTC': [9845665654, 453534], 'NCELL': [9808667654, 345345345]}\n"
     ]
    }
   ],
   "source": [
    "info = {'Name':[],'NTC':[],'NCELL':[]}\n",
    "\n",
    "n = int(input(\"Enter n = \"))\n",
    "for i in range(n):\n",
    "    name = input(\"Enter name = \")\n",
    "    ntc_phone = int(input(\"Enter ntc no = \"))\n",
    "    ncell_phone = int(input(\"Enter ncell_no = \"))\n",
    "    info[\"Name\"].append(name)\n",
    "    info[\"NTC\"].append(ntc_phone)\n",
    "    info['NCELL'].append(ncell_phone)\n",
    "    \n",
    "print(info)"
   ]
  },
  {
   "cell_type": "code",
   "execution_count": 34,
   "metadata": {},
   "outputs": [
    {
     "data": {
      "text/plain": [
       "{'Name': 'Ram', 'Age': 45, 'Add': 'Kathmandu'}"
      ]
     },
     "execution_count": 34,
     "metadata": {},
     "output_type": "execute_result"
    }
   ],
   "source": [
    "info = [{'Name':'Ram','Age':45,'Add':'Kathmandu'},\n",
    "       {'Name':'Shyam','Age':34,'Add':'Bhaktapur'},\n",
    "       {'Name':'Hari','Age':44,'Add':'Lalitpur'},\n",
    "       {'Name':'Sita','Age':34,'Add':'Kathmandu'}]\n",
    "\n",
    "info[0]"
   ]
  },
  {
   "cell_type": "code",
   "execution_count": 36,
   "metadata": {},
   "outputs": [
    {
     "data": {
      "text/plain": [
       "'Ram'"
      ]
     },
     "execution_count": 36,
     "metadata": {},
     "output_type": "execute_result"
    }
   ],
   "source": [
    "info[0]['Name']"
   ]
  },
  {
   "cell_type": "code",
   "execution_count": 37,
   "metadata": {},
   "outputs": [
    {
     "data": {
      "text/plain": [
       "[{'Name': 'Ram Prasad', 'Age': 45, 'Add': 'Kathmandu'},\n",
       " {'Name': 'Shyam', 'Age': 34, 'Add': 'Bhaktapur'},\n",
       " {'Name': 'Hari', 'Age': 44, 'Add': 'Lalitpur'},\n",
       " {'Name': 'Sita', 'Age': 34, 'Add': 'Kathmandu'}]"
      ]
     },
     "execution_count": 37,
     "metadata": {},
     "output_type": "execute_result"
    }
   ],
   "source": [
    "info[0]['Name'] = \"Ram Prasad\"\n",
    "info"
   ]
  },
  {
   "cell_type": "code",
   "execution_count": 38,
   "metadata": {},
   "outputs": [
    {
     "name": "stdout",
     "output_type": "stream",
     "text": [
      "Enter n = 2\n",
      "Enter name = Ram\n",
      "Enter age = 89\n",
      "Enter add = Kathmandu\n",
      "Enter name = Shyam\n",
      "Enter age = 34\n",
      "Enter add = Bhaktapur\n",
      "[{'Name': 'Ram', 'Age ': 89, 'Add': 'Kathmandu'}, {'Name': 'Shyam', 'Age ': 34, 'Add': 'Bhaktapur'}]\n"
     ]
    }
   ],
   "source": [
    "info = []\n",
    "n = int(input(\"Enter n = \"))\n",
    "for i in range(n):\n",
    "    name = input(\"Enter name = \")\n",
    "    age = int(input(\"Enter age = \"))\n",
    "    add = input(\"Enter add = \")\n",
    "    data = {\"Name\":name,\"Age \":age,\"Add\":add}\n",
    "    info.append(data)\n",
    "print(info)"
   ]
  },
  {
   "cell_type": "code",
   "execution_count": 39,
   "metadata": {},
   "outputs": [
    {
     "name": "stdout",
     "output_type": "stream",
     "text": [
      "Enter product name = coke\n"
     ]
    },
    {
     "data": {
      "text/plain": [
       "100"
      ]
     },
     "execution_count": 39,
     "metadata": {},
     "output_type": "execute_result"
    }
   ],
   "source": [
    "data = {'coke':100,'pizza':150,'mo-mo':100}\n",
    "\n",
    "\n",
    "product = input('Enter product name = ')\n",
    "price = data[product]\n",
    "quantity = int(input(\"Enter quantity = \"))\n",
    "\n",
    "total = price*quantity"
   ]
  },
  {
   "cell_type": "code",
   "execution_count": 2,
   "metadata": {},
   "outputs": [
    {
     "name": "stdout",
     "output_type": "stream",
     "text": [
      "{111234: {'Name': 'Ram Prasad', 'Age': 45, 'Add': 'Kathmandu'}, 223432: {'Name': 'Shyam', 'Age': 34, 'Add': 'Bhaktapur'}, 334321: {'Name': 'Hari', 'Age': 44, 'Add': 'Lalitpur'}, 434572: {'Name': 'Sita', 'Age': 34, 'Add': 'Kathmandu'}}\n"
     ]
    }
   ],
   "source": [
    "# dict inside dict\n",
    "a = {111234:{'Name': 'Ram Prasad', 'Age': 45, 'Add': 'Kathmandu'},\n",
    "     223432:{'Name': 'Shyam', 'Age': 34, 'Add': 'Bhaktapur'},\n",
    "     334321:{'Name': 'Hari', 'Age': 44, 'Add': 'Lalitpur'},\n",
    "     434572:{'Name': 'Sita', 'Age': 34, 'Add': 'Kathmandu'}}\n",
    "print(a)"
   ]
  },
  {
   "cell_type": "code",
   "execution_count": 3,
   "metadata": {},
   "outputs": [
    {
     "name": "stdout",
     "output_type": "stream",
     "text": [
      "{'Name': 'Ram Prasad', 'Age': 45, 'Add': 'Kathmandu'}\n"
     ]
    }
   ],
   "source": [
    "print(a[111234])"
   ]
  },
  {
   "cell_type": "code",
   "execution_count": 4,
   "metadata": {},
   "outputs": [
    {
     "data": {
      "text/plain": [
       "{111234: {'Name': 'Ram Prasad', 'Age': 45, 'Add': 'Kathmandu'},\n",
       " 223432: {'Name': 'Shyam', 'Age': 34, 'Add': 'Bhaktapur'},\n",
       " 334321: {'Name': 'Hari', 'Age': 44, 'Add': 'Lalitpur'},\n",
       " 434572: {'Name': 'Sita', 'Age': 34, 'Add': 'Kathmandu'},\n",
       " 453456: {'Name': 'Sabin', 'Age': 56, 'Add': 'Kathmandu'}}"
      ]
     },
     "execution_count": 4,
     "metadata": {},
     "output_type": "execute_result"
    }
   ],
   "source": [
    "a [453456] = {'Name':'Sabin','Age':56,'Add':'Kathmandu'}\n",
    "a"
   ]
  },
  {
   "cell_type": "code",
   "execution_count": null,
   "metadata": {},
   "outputs": [],
   "source": [
    "# WAP to create dict inside dict"
   ]
  }
 ],
 "metadata": {
  "kernelspec": {
   "display_name": "Python 3 (ipykernel)",
   "language": "python",
   "name": "python3"
  },
  "language_info": {
   "codemirror_mode": {
    "name": "ipython",
    "version": 3
   },
   "file_extension": ".py",
   "mimetype": "text/x-python",
   "name": "python",
   "nbconvert_exporter": "python",
   "pygments_lexer": "ipython3",
   "version": "3.7.1"
  }
 },
 "nbformat": 4,
 "nbformat_minor": 2
}
